{
 "cells": [
  {
   "cell_type": "code",
   "execution_count": null,
   "metadata": {
    "vscode": {
     "languageId": "rust"
    }
   },
   "outputs": [],
   "source": [
    ":dep combee\n",
    ":dep serde"
   ]
  },
  {
   "cell_type": "code",
   "execution_count": null,
   "metadata": {
    "vscode": {
     "languageId": "rust"
    }
   },
   "outputs": [],
   "source": [
    "use combee::{read_parquet, dataframe::DataFrame};\n",
    "use serde::{Serialize, Deserialize}"
   ]
  },
  {
   "cell_type": "code",
   "execution_count": null,
   "metadata": {
    "vscode": {
     "languageId": "rust"
    }
   },
   "outputs": [],
   "source": [
    "use combee::functions::{all, avg, count};"
   ]
  },
  {
   "cell_type": "code",
   "execution_count": null,
   "metadata": {
    "vscode": {
     "languageId": "rust"
    }
   },
   "outputs": [],
   "source": [
    "#[derive(Clone, Serialize, Deserialize, Debug)]\n",
    "struct Anime {\n",
    "    anime_id: u64,\n",
    "    name: String,\n",
    "    genre: Vec<String>,\n",
    "    r#type: String,\n",
    "    episodes: usize,\n",
    "    rating: f64,\n",
    "    members: usize\n",
    "}\n",
    "\n",
    "let df = read_parquet::<Anime>(\"datasets/anime.parquet\".to_string()).unwrap();\n",
    "\n",
    "println!(\"Count: {}\", df.len());\n",
    "df.head(5)"
   ]
  },
  {
   "cell_type": "code",
   "execution_count": null,
   "metadata": {
    "vscode": {
     "languageId": "rust"
    }
   },
   "outputs": [],
   "source": [
    "// Calculating the number of rows and the average rating\n",
    "df.groupby(all).agg(|_,g| (count(g), avg(g, |x| x.rating))).head(1)"
   ]
  },
  {
   "cell_type": "code",
   "execution_count": null,
   "metadata": {
    "vscode": {
     "languageId": "rust"
    }
   },
   "outputs": [],
   "source": [
    "// Calculating the average rating for each type.\n",
    "df.groupby(|x| x.r#type.clone()).agg(|r#type,g| (r#type.clone(), count(g), avg(g, |x| x.rating))).head(50)"
   ]
  },
  {
   "cell_type": "code",
   "execution_count": null,
   "metadata": {
    "vscode": {
     "languageId": "rust"
    }
   },
   "outputs": [],
   "source": [
    "// Removing animes without a type\n",
    "let df_filtered: DataFrame<Anime> = df.filter(|x| x.r#type.len() > 0);\n",
    "println!(\"Count: {}\", df_filtered.len());\n",
    "\n",
    "df_filtered.groupby(|x| x.r#type.clone()).agg(|r#type,g| (r#type.clone(), count(g), avg(g, |x| x.rating))).head(50)"
   ]
  },
  {
   "cell_type": "code",
   "execution_count": null,
   "metadata": {
    "vscode": {
     "languageId": "rust"
    }
   },
   "outputs": [],
   "source": [
    "// Saving result to parquet\n",
    "df_filtered.to_parquet(\"datasets/anime_filtered.parquet\".to_string())"
   ]
  }
 ],
 "metadata": {
  "kernelspec": {
   "display_name": "Rust",
   "language": "rust",
   "name": "rust"
  },
  "language_info": {
   "codemirror_mode": "rust",
   "file_extension": ".rs",
   "mimetype": "text/rust",
   "name": "Rust",
   "pygment_lexer": "rust",
   "version": ""
  },
  "orig_nbformat": 4
 },
 "nbformat": 4,
 "nbformat_minor": 2
}
