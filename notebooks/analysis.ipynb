{
 "cells": [
  {
   "cell_type": "code",
   "execution_count": 37,
   "metadata": {
    "vscode": {
     "languageId": "rust"
    }
   },
   "outputs": [],
   "source": [
    ":dep combee\n",
    ":dep serde"
   ]
  },
  {
   "cell_type": "code",
   "execution_count": 38,
   "metadata": {
    "vscode": {
     "languageId": "rust"
    }
   },
   "outputs": [],
   "source": [
    "use combee::read_parquet\n",
    "use serde::{Serialize, Deserialize}"
   ]
  },
  {
   "cell_type": "code",
   "execution_count": 39,
   "metadata": {
    "vscode": {
     "languageId": "rust"
    }
   },
   "outputs": [
    {
     "data": {
      "text/plain": [
       "Anime { anime_id: 32281, name: \"Kimi no Na wa.\", genre: [\"Drama\", \"Romance\", \"School\", \"Supernatural\"], type: \"Movie\", episodes: 1, rating: 9.37, members: 200630 }\n",
       "Anime { anime_id: 5114, name: \"Fullmetal Alchemist: Brotherhood\", genre: [\"Action\", \"Adventure\", \"Drama\", \"Fantasy\", \"Magic\", \"Military\", \"Shounen\"], type: \"TV\", episodes: 64, rating: 9.26, members: 793665 }\n",
       "Anime { anime_id: 28977, name: \"Gintama°\", genre: [\"Action\", \"Comedy\", \"Historical\", \"Parody\", \"Samurai\", \"Sci-Fi\", \"Shounen\"], type: \"TV\", episodes: 51, rating: 9.25, members: 114262 }\n",
       "Anime { anime_id: 9253, name: \"Steins;Gate\", genre: [\"Sci-Fi\", \"Thriller\"], type: \"TV\", episodes: 24, rating: 9.17, members: 673572 }\n",
       "Anime { anime_id: 9969, name: \"Gintama&#039;\", genre: [\"Action\", \"Comedy\", \"Historical\", \"Parody\", \"Samurai\", \"Sci-Fi\", \"Shounen\"], type: \"TV\", episodes: 51, rating: 9.16, members: 151266 }\n"
      ]
     },
     "execution_count": 39,
     "metadata": {},
     "output_type": "execute_result"
    }
   ],
   "source": [
    "#[derive(Clone, Serialize, Deserialize, Debug)]\n",
    "struct Anime {\n",
    "    anime_id: u64,\n",
    "    name: String,\n",
    "    genre: Vec<String>,\n",
    "    r#type: String,\n",
    "    episodes: usize,\n",
    "    rating: f64,\n",
    "    members: usize\n",
    "}\n",
    "\n",
    "let df = read_parquet::<Anime>(\"datasets/anime.parquet\".to_string()).unwrap();\n",
    "\n",
    "df.head(5)"
   ]
  }
 ],
 "metadata": {
  "kernelspec": {
   "display_name": "Rust",
   "language": "rust",
   "name": "rust"
  },
  "language_info": {
   "codemirror_mode": "rust",
   "file_extension": ".rs",
   "mimetype": "text/rust",
   "name": "Rust",
   "pygment_lexer": "rust",
   "version": ""
  },
  "orig_nbformat": 4
 },
 "nbformat": 4,
 "nbformat_minor": 2
}
