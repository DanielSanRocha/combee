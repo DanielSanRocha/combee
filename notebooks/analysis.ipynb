{
 "cells": [
  {
   "cell_type": "code",
   "execution_count": 2,
   "metadata": {
    "vscode": {
     "languageId": "rust"
    }
   },
   "outputs": [],
   "source": [
    ":dep combee\n",
    ":dep serde"
   ]
  },
  {
   "cell_type": "code",
   "execution_count": 10,
   "metadata": {
    "vscode": {
     "languageId": "rust"
    }
   },
   "outputs": [],
   "source": [
    "use combee::{read_parquet, dataframe::DataFrame};\n",
    "use serde::{Serialize, Deserialize}"
   ]
  },
  {
   "cell_type": "code",
   "execution_count": 4,
   "metadata": {
    "vscode": {
     "languageId": "rust"
    }
   },
   "outputs": [],
   "source": [
    "use combee::functions::{all, mean, count};"
   ]
  },
  {
   "cell_type": "code",
   "execution_count": 5,
   "metadata": {
    "vscode": {
     "languageId": "rust"
    }
   },
   "outputs": [
    {
     "name": "stdout",
     "output_type": "stream",
     "text": [
      "Count: 12294\n"
     ]
    },
    {
     "data": {
      "text/plain": [
       "Anime { anime_id: 32281, name: \"Kimi no Na wa.\", genre: [\"Drama\", \"Romance\", \"School\", \"Supernatural\"], type: \"Movie\", episodes: 1, rating: 9.37, members: 200630 }\n",
       "Anime { anime_id: 5114, name: \"Fullmetal Alchemist: Brotherhood\", genre: [\"Action\", \"Adventure\", \"Drama\", \"Fantasy\", \"Magic\", \"Military\", \"Shounen\"], type: \"TV\", episodes: 64, rating: 9.26, members: 793665 }\n",
       "Anime { anime_id: 28977, name: \"Gintama°\", genre: [\"Action\", \"Comedy\", \"Historical\", \"Parody\", \"Samurai\", \"Sci-Fi\", \"Shounen\"], type: \"TV\", episodes: 51, rating: 9.25, members: 114262 }\n",
       "Anime { anime_id: 9253, name: \"Steins;Gate\", genre: [\"Sci-Fi\", \"Thriller\"], type: \"TV\", episodes: 24, rating: 9.17, members: 673572 }\n",
       "Anime { anime_id: 9969, name: \"Gintama&#039;\", genre: [\"Action\", \"Comedy\", \"Historical\", \"Parody\", \"Samurai\", \"Sci-Fi\", \"Shounen\"], type: \"TV\", episodes: 51, rating: 9.16, members: 151266 }\n"
      ]
     },
     "execution_count": 5,
     "metadata": {},
     "output_type": "execute_result"
    }
   ],
   "source": [
    "#[derive(Clone, Serialize, Deserialize, Debug)]\n",
    "struct Anime {\n",
    "    anime_id: u64,\n",
    "    name: String,\n",
    "    genre: Vec<String>,\n",
    "    r#type: String,\n",
    "    episodes: usize,\n",
    "    rating: f64,\n",
    "    members: usize\n",
    "}\n",
    "\n",
    "let df = read_parquet::<Anime>(\"datasets/anime.parquet\".to_string()).unwrap();\n",
    "\n",
    "println!(\"Count: {}\", df.len());\n",
    "df.head(5)"
   ]
  },
  {
   "cell_type": "code",
   "execution_count": 6,
   "metadata": {
    "vscode": {
     "languageId": "rust"
    }
   },
   "outputs": [
    {
     "data": {
      "text/plain": [
       "(12294, 6.35278591182692)\n"
      ]
     },
     "execution_count": 6,
     "metadata": {},
     "output_type": "execute_result"
    }
   ],
   "source": [
    "// Calculating the number of rows and the average rating\n",
    "df.groupby(all).agg(|_,g| (count(g), mean(g, |x| x.rating))).head(1)"
   ]
  },
  {
   "cell_type": "code",
   "execution_count": 7,
   "metadata": {
    "vscode": {
     "languageId": "rust"
    }
   },
   "outputs": [
    {
     "data": {
      "text/plain": [
       "(\"ONA\", 659, 5.583353566009107)\n",
       "(\"Music\", 488, 5.588995901639343)\n",
       "(\"Movie\", 2348, 6.180826235093689)\n",
       "(\"Special\", 1676, 6.504039379474938)\n",
       "(\"OVA\", 3311, 6.3251585623678555)\n",
       "(\"\", 25, 0.0)\n",
       "(\"TV\", 3787, 6.690874042777925)\n"
      ]
     },
     "execution_count": 7,
     "metadata": {},
     "output_type": "execute_result"
    }
   ],
   "source": [
    "// Calculating the average rating for each type.\n",
    "df.groupby(|x| x.r#type.clone()).agg(|r#type,g| (r#type.clone(), count(g), mean(g, |x| x.rating))).head(50)"
   ]
  },
  {
   "cell_type": "code",
   "execution_count": 11,
   "metadata": {
    "vscode": {
     "languageId": "rust"
    }
   },
   "outputs": [
    {
     "name": "stdout",
     "output_type": "stream",
     "text": [
      "Count: 12269\n"
     ]
    },
    {
     "data": {
      "text/plain": [
       "(\"TV\", 3787, 6.690874042777925)\n",
       "(\"Music\", 488, 5.588995901639343)\n",
       "(\"OVA\", 3311, 6.3251585623678555)\n",
       "(\"ONA\", 659, 5.583353566009107)\n",
       "(\"Movie\", 2348, 6.180826235093689)\n",
       "(\"Special\", 1676, 6.504039379474938)\n"
      ]
     },
     "execution_count": 11,
     "metadata": {},
     "output_type": "execute_result"
    }
   ],
   "source": [
    "// Removing animes without a type\n",
    "let df_filtered: DataFrame<Anime> = df.filter(|x| x.r#type.len() > 0);\n",
    "println!(\"Count: {}\", df_filtered.len());\n",
    "\n",
    "df_filtered.groupby(|x| x.r#type.clone()).agg(|r#type,g| (r#type.clone(), count(g), mean(g, |x| x.rating))).head(50)"
   ]
  },
  {
   "cell_type": "code",
   "execution_count": 13,
   "metadata": {
    "vscode": {
     "languageId": "rust"
    }
   },
   "outputs": [
    {
     "data": {
      "text/plain": [
       "Ok(())"
      ]
     },
     "execution_count": 13,
     "metadata": {},
     "output_type": "execute_result"
    }
   ],
   "source": [
    "// Saving result to parquet\n",
    "df_filtered.to_parquet(\"datasets/anime_filtered.parquet\".to_string())"
   ]
  }
 ],
 "metadata": {
  "kernelspec": {
   "display_name": "Rust",
   "language": "rust",
   "name": "rust"
  },
  "language_info": {
   "codemirror_mode": "rust",
   "file_extension": ".rs",
   "mimetype": "text/rust",
   "name": "Rust",
   "pygment_lexer": "rust",
   "version": ""
  },
  "orig_nbformat": 4
 },
 "nbformat": 4,
 "nbformat_minor": 2
}
